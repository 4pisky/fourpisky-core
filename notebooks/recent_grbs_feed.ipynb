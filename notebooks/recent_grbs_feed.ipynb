{
 "cells": [
  {
   "cell_type": "code",
   "execution_count": null,
   "metadata": {
    "collapsed": false
   },
   "outputs": [],
   "source": [
    "%load_ext autoreload\n",
    "%autoreload 2\n",
    "import csv\n",
    "import datetime"
   ]
  },
  {
   "cell_type": "code",
   "execution_count": null,
   "metadata": {
    "collapsed": false
   },
   "outputs": [],
   "source": [
    "import sqlalchemy\n",
    "from voeventdb.server.database import session_registry\n",
    "import voeventdb.server.database.models as models\n",
    "import voeventdb.server.database.config as dbconfig\n",
    "import voeventparse as vp"
   ]
  },
  {
   "cell_type": "code",
   "execution_count": null,
   "metadata": {
    "collapsed": false
   },
   "outputs": [],
   "source": [
    "dbname = 'voeventdb'\n",
    "dbname = '_voecache_test_corpus'\n",
    "dburl = dbconfig.make_db_url(dbconfig.default_admin_db_params, dbname)\n",
    "session_registry.configure(\n",
    "        bind=sqlalchemy.engine.create_engine(dburl, echo=False)\n",
    "    )"
   ]
  },
  {
   "cell_type": "code",
   "execution_count": null,
   "metadata": {
    "collapsed": false
   },
   "outputs": [],
   "source": [
    "s = session_registry()\n",
    "s.query(models.Voevent).count()"
   ]
  },
  {
   "cell_type": "code",
   "execution_count": null,
   "metadata": {
    "collapsed": false
   },
   "outputs": [],
   "source": [
    "now = datetime.datetime.utcnow()\n",
    "threshold_tstamp = now - datetime.timedelta(days=360)\n",
    "ivorn_contains = \"BAT_GRB\"\n",
    "q = s.query(models.Voevent).filter(\n",
    "    models.Voevent.ivorn.like('%{}%'.format(ivorn_contains)),\n",
    "    models.Voevent.author_datetime > threshold_tstamp,\n",
    "    models.Voevent.role == 'observation'\n",
    "    )\n"
   ]
  },
  {
   "cell_type": "code",
   "execution_count": null,
   "metadata": {
    "collapsed": false
   },
   "outputs": [],
   "source": [
    "q[0].ivorn"
   ]
  },
  {
   "cell_type": "code",
   "execution_count": null,
   "metadata": {
    "collapsed": false
   },
   "outputs": [],
   "source": [
    "for entry in q:\n",
    "    print entry.ivorn"
   ]
  },
  {
   "cell_type": "code",
   "execution_count": null,
   "metadata": {
    "collapsed": false
   },
   "outputs": [],
   "source": [
    "bat_ivorn = q[0]\n",
    "bat_ivorn"
   ]
  },
  {
   "cell_type": "code",
   "execution_count": null,
   "metadata": {
    "collapsed": true
   },
   "outputs": [],
   "source": [
    "trig_id = 718655\n",
    "bat_ivorn = \"ivo://nasa.gsfc.gcn/SWIFT#BAT_GRB_Pos_718919-314\""
   ]
  },
  {
   "cell_type": "code",
   "execution_count": null,
   "metadata": {
    "collapsed": false
   },
   "outputs": [],
   "source": [
    "v = vp.loads(q[0].xml.encode())"
   ]
  }
 ],
 "metadata": {
  "kernelspec": {
   "display_name": "Python 2",
   "language": "python",
   "name": "python2"
  },
  "language_info": {
   "codemirror_mode": {
    "name": "ipython",
    "version": 2
   },
   "file_extension": ".py",
   "mimetype": "text/x-python",
   "name": "python",
   "nbconvert_exporter": "python",
   "pygments_lexer": "ipython2",
   "version": "2.7.6"
  }
 },
 "nbformat": 4,
 "nbformat_minor": 0
}
