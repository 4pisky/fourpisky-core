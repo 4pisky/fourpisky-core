{
 "cells": [
  {
   "cell_type": "code",
   "execution_count": null,
   "metadata": {
    "collapsed": false
   },
   "outputs": [],
   "source": [
    "import ephem\n",
    "import math\n",
    "import datetime, pytz\n",
    "from astropysics.coords import FK5Coordinates"
   ]
  },
  {
   "cell_type": "code",
   "execution_count": null,
   "metadata": {
    "collapsed": false
   },
   "outputs": [],
   "source": [
    "eqtrans = FK5Coordinates(\"17:6:32 +10.0 J2000.0\")\n",
    "print eqtrans.ra, eqtrans.dec"
   ]
  },
  {
   "cell_type": "code",
   "execution_count": null,
   "metadata": {
    "collapsed": false
   },
   "outputs": [],
   "source": [
    "p1 = ephem.Equatorial(\"17:6:32\", \"+0.0\", epoch=ephem.J2000)\n",
    "print p1.ra, p1.dec"
   ]
  },
  {
   "cell_type": "code",
   "execution_count": null,
   "metadata": {
    "collapsed": false
   },
   "outputs": [],
   "source": [
    "p2 = ephem.Equatorial(str(eqtrans.ra.d), str(eqtrans.dec.d))\n",
    "print p2.ra, p2.dec"
   ]
  },
  {
   "cell_type": "code",
   "execution_count": null,
   "metadata": {
    "collapsed": false
   },
   "outputs": [],
   "source": [
    "d =ephem.degrees(p1.ra)\n",
    "print d*180/math.pi\n",
    "print d\n",
    "print ephem.hours(d)"
   ]
  },
  {
   "cell_type": "code",
   "execution_count": null,
   "metadata": {
    "collapsed": false
   },
   "outputs": [],
   "source": [
    "print p1.ra, p1.dec"
   ]
  },
  {
   "cell_type": "code",
   "execution_count": null,
   "metadata": {
    "collapsed": false
   },
   "outputs": [],
   "source": [
    "p2 = ephem.Equatorial(ephem.degrees('6.104381415856419'), \"-0.3008855515838813\")"
   ]
  },
  {
   "cell_type": "code",
   "execution_count": null,
   "metadata": {
    "collapsed": false
   },
   "outputs": [],
   "source": [
    "print p2.ra*180/math.pi"
   ]
  },
  {
   "cell_type": "code",
   "execution_count": null,
   "metadata": {
    "collapsed": false
   },
   "outputs": [],
   "source": [
    "b1 = ephem.FixedBody()\n",
    "b1._ra = ephem.degrees(p1.ra)\n",
    "b1._dec = p2.dec\n",
    "b1.compute()\n",
    "print b1.a_ra"
   ]
  },
  {
   "cell_type": "code",
   "execution_count": null,
   "metadata": {
    "collapsed": false
   },
   "outputs": [],
   "source": [
    "testp = ephem.Equatorial(\"17:6:32\",\"+57.5\")\n",
    "str(testp.ra),str(testp.dec)"
   ]
  },
  {
   "cell_type": "code",
   "execution_count": null,
   "metadata": {
    "collapsed": false
   },
   "outputs": [],
   "source": [
    "testp.epoch"
   ]
  },
  {
   "cell_type": "code",
   "execution_count": null,
   "metadata": {
    "collapsed": false
   },
   "outputs": [],
   "source": [
    "print ephem.degrees('+0:7:21')*180/math.pi*60"
   ]
  },
  {
   "cell_type": "code",
   "execution_count": null,
   "metadata": {
    "collapsed": false
   },
   "outputs": [],
   "source": [
    "print ephem.degrees(\"1\")*180/math.pi"
   ]
  },
  {
   "cell_type": "code",
   "execution_count": null,
   "metadata": {
    "collapsed": false
   },
   "outputs": [],
   "source": [
    "# greenwich_site = ephem.Site(lat=51.5,\n",
    "#                                        long=0,\n",
    "#                                         alt=0,\n",
    "#                                         tz=0,\n",
    "#                                         name=\"Greenwich\"\n",
    "#                                         )\n",
    "greenwich = ephem.Observer()\n",
    "greenwich.lat = ephem.degrees('51.5')\n",
    "greenwich.lon = 0\n",
    "greenwich.date = datetime.datetime(2012, 03, 20,\n",
    "                                           5, 14,\n",
    "                                           tzinfo=pytz.utc)\n",
    "greenwich.name = \"Royal Greenwich Observatory\"\n",
    "print greenwich"
   ]
  },
  {
   "cell_type": "code",
   "execution_count": null,
   "metadata": {
    "collapsed": false
   },
   "outputs": [],
   "source": [
    "str(greenwich.name)"
   ]
  },
  {
   "cell_type": "code",
   "execution_count": null,
   "metadata": {
    "collapsed": false
   },
   "outputs": [],
   "source": [
    "print greenwich.date"
   ]
  },
  {
   "cell_type": "code",
   "execution_count": null,
   "metadata": {
    "collapsed": false
   },
   "outputs": [],
   "source": [
    "print greenwich.sidereal_time()"
   ]
  },
  {
   "cell_type": "code",
   "execution_count": null,
   "metadata": {
    "collapsed": false
   },
   "outputs": [],
   "source": [
    "greenwich."
   ]
  },
  {
   "cell_type": "code",
   "execution_count": null,
   "metadata": {
    "collapsed": false
   },
   "outputs": [],
   "source": [
    "print greenwich.next_transit(b1)"
   ]
  },
  {
   "cell_type": "code",
   "execution_count": null,
   "metadata": {
    "collapsed": false
   },
   "outputs": [],
   "source": [
    "print greenwich.sidereal_time()"
   ]
  },
  {
   "cell_type": "code",
   "execution_count": null,
   "metadata": {
    "collapsed": false
   },
   "outputs": [],
   "source": [
    "cpn_posn = ephem.Equatorial(\"17:6:32\", \"+89.0\",epoch=ephem.J2000)\n",
    "print cpn_posn.ra,  cpn_posn.dec\n",
    "cpn = ephem.FixedBody()\n",
    "cpn._ra = cpn_posn.ra\n",
    "cpn._dec = cpn_posn.dec\n",
    "cpn._epoch = cpn_posn.epoch\n",
    "cpn.compute(greenwich)\n",
    "print cpn.a_ra, cpn.a_dec\n",
    "# # cpn.circumpolar\n",
    "print cpn.alt, cpn.az\n",
    "print cpn.circumpolar, cpn.neverup\n",
    "print cpn.rise_time\n",
    "print cpn.transit_alt\n"
   ]
  },
  {
   "cell_type": "code",
   "execution_count": null,
   "metadata": {
    "collapsed": false
   },
   "outputs": [],
   "source": [
    "print greenwich.date\n",
    "print greenwich.previous_transit(cpn)"
   ]
  },
  {
   "cell_type": "code",
   "execution_count": null,
   "metadata": {
    "collapsed": false
   },
   "outputs": [],
   "source": [
    "print cpn.transit_time"
   ]
  },
  {
   "cell_type": "code",
   "execution_count": null,
   "metadata": {
    "collapsed": false
   },
   "outputs": [],
   "source": [
    "eq_later_posn = ephem.Equatorial(\"5:6:32\", \"+0.0\",epoch=ephem.J2000)\n",
    "eq_later = ephem.FixedBody()\n",
    "eq_later._ra = eq_later_posn.ra\n",
    "eq_later._dec =  eq_later_posn.dec\n",
    "eq_later._epoch = ephem.J2000\n",
    "greenwich.horizon= ephem.degrees('9')\n",
    "greenwich.date = 40987.01220277134\n",
    "print greenwich.date\n",
    "eq_later.compute(greenwich)\n",
    "print eq_later.alt*180/math.pi\n",
    "print eq_later.transit_time\n",
    "\n",
    "print eq_later.transit_alt*180/math.pi\n",
    "print eq_later.rise_time\n",
    "print eq_later.alt\n",
    "eq_later.alt>greenwich.horizon"
   ]
  },
  {
   "cell_type": "code",
   "execution_count": null,
   "metadata": {
    "collapsed": false
   },
   "outputs": [],
   "source": [
    "greenwich.date = cpn.transit_time\n",
    "cpn.compute(greenwich)\n",
    "cpn.alt\n",
    "print cpn.az"
   ]
  },
  {
   "cell_type": "code",
   "execution_count": null,
   "metadata": {
    "collapsed": false
   },
   "outputs": [],
   "source": [
    "print eq_later._ra*180/math.pi"
   ]
  },
  {
   "cell_type": "code",
   "execution_count": null,
   "metadata": {
    "collapsed": false
   },
   "outputs": [],
   "source": [
    "print eq_later.transit_time"
   ]
  },
  {
   "cell_type": "code",
   "execution_count": null,
   "metadata": {
    "collapsed": false
   },
   "outputs": [],
   "source": [
    "print greenwich.previous_setting(eq_later)"
   ]
  },
  {
   "cell_type": "code",
   "execution_count": null,
   "metadata": {
    "collapsed": false
   },
   "outputs": [],
   "source": [
    "print greenwich.next_rising(eq_later)"
   ]
  },
  {
   "cell_type": "code",
   "execution_count": null,
   "metadata": {
    "collapsed": false
   },
   "outputs": [],
   "source": [
    "print greenwich.next_transit(eq_later).datetime()"
   ]
  },
  {
   "cell_type": "code",
   "execution_count": null,
   "metadata": {
    "collapsed": false
   },
   "outputs": [],
   "source": [
    "print cpn.transit_alt*180/math.pi"
   ]
  },
  {
   "cell_type": "code",
   "execution_count": null,
   "metadata": {
    "collapsed": false
   },
   "outputs": [],
   "source": [
    "print eq_later.transit_alt*180/math.pi"
   ]
  },
  {
   "cell_type": "code",
   "execution_count": null,
   "metadata": {
    "collapsed": false
   },
   "outputs": [],
   "source": [
    "eq_later_tt = greenwich.next_transit(eq_later).datetime()\n",
    "eq_later_tt = pytz.utc.localize(eq_later_tt)\n",
    "print eq_later_tt"
   ]
  },
  {
   "cell_type": "code",
   "execution_count": null,
   "metadata": {
    "collapsed": true
   },
   "outputs": [],
   "source": [
    "greenwich.date= eq_later_tt"
   ]
  },
  {
   "cell_type": "code",
   "execution_count": null,
   "metadata": {
    "collapsed": false
   },
   "outputs": [],
   "source": [
    "eq_later.compute(greenwich)\n",
    "print eq_later.alt, eq_later.az"
   ]
  },
  {
   "cell_type": "code",
   "execution_count": null,
   "metadata": {
    "collapsed": true
   },
   "outputs": [],
   "source": [
    "greenwich.date= cpn.transit_time"
   ]
  },
  {
   "cell_type": "code",
   "execution_count": null,
   "metadata": {
    "collapsed": false
   },
   "outputs": [],
   "source": [
    "cpn.compute(greenwich)\n",
    "print cpn.alt, cpn.az\n",
    "eq_later.compute(greenwich)\n",
    "print eq_later.alt, eq_later.az"
   ]
  },
  {
   "cell_type": "code",
   "execution_count": null,
   "metadata": {
    "collapsed": false
   },
   "outputs": [],
   "source": [
    "greenwich.horizon "
   ]
  },
  {
   "cell_type": "code",
   "execution_count": null,
   "metadata": {
    "collapsed": false
   },
   "outputs": [],
   "source": [
    "print greenwich.sidereal_time()"
   ]
  },
  {
   "cell_type": "code",
   "execution_count": null,
   "metadata": {
    "collapsed": true
   },
   "outputs": [],
   "source": []
  }
 ],
 "metadata": {
  "kernelspec": {
   "display_name": "Python 2",
   "language": "python",
   "name": "python2"
  },
  "language_info": {
   "codemirror_mode": {
    "name": "ipython",
    "version": 2
   },
   "file_extension": ".py",
   "mimetype": "text/x-python",
   "name": "python",
   "nbconvert_exporter": "python",
   "pygments_lexer": "ipython2",
   "version": "2.7.6"
  }
 },
 "nbformat": 4,
 "nbformat_minor": 0
}
